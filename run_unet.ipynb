{
 "cells": [
  {
   "cell_type": "code",
   "execution_count": 2,
   "id": "593ccdcc",
   "metadata": {},
   "outputs": [
    {
     "name": "stdout",
     "output_type": "stream",
     "text": [
      "^C\n",
      "Note: you may need to restart the kernel to use updated packages.\n"
     ]
    },
    {
     "name": "stdout",
     "output_type": "stream",
     "text": [
      "Requirement already satisfied: monai in c:\\users\\viththagan\\appdata\\local\\programs\\python\\python312\\lib\\site-packages (1.4.0)\n",
      "Requirement already satisfied: numpy<2.0,>=1.24 in c:\\users\\viththagan\\appdata\\local\\programs\\python\\python312\\lib\\site-packages (from monai) (1.26.4)\n",
      "Requirement already satisfied: torch>=1.9 in c:\\users\\viththagan\\appdata\\local\\programs\\python\\python312\\lib\\site-packages (from monai) (2.5.1+cu118)\n",
      "Requirement already satisfied: filelock in c:\\users\\viththagan\\appdata\\local\\programs\\python\\python312\\lib\\site-packages (from torch>=1.9->monai) (3.17.0)\n",
      "Requirement already satisfied: typing-extensions>=4.8.0 in c:\\users\\viththagan\\appdata\\local\\programs\\python\\python312\\lib\\site-packages (from torch>=1.9->monai) (4.12.2)\n",
      "Requirement already satisfied: networkx in c:\\users\\viththagan\\appdata\\local\\programs\\python\\python312\\lib\\site-packages (from torch>=1.9->monai) (3.4.2)\n",
      "Requirement already satisfied: jinja2 in c:\\users\\viththagan\\appdata\\local\\programs\\python\\python312\\lib\\site-packages (from torch>=1.9->monai) (3.1.5)\n",
      "Requirement already satisfied: fsspec in c:\\users\\viththagan\\appdata\\local\\programs\\python\\python312\\lib\\site-packages (from torch>=1.9->monai) (2024.12.0)\n",
      "Requirement already satisfied: setuptools in c:\\users\\viththagan\\appdata\\local\\programs\\python\\python312\\lib\\site-packages (from torch>=1.9->monai) (75.8.0)\n",
      "Requirement already satisfied: sympy==1.13.1 in c:\\users\\viththagan\\appdata\\local\\programs\\python\\python312\\lib\\site-packages (from torch>=1.9->monai) (1.13.1)\n",
      "Requirement already satisfied: mpmath<1.4,>=1.1.0 in c:\\users\\viththagan\\appdata\\local\\programs\\python\\python312\\lib\\site-packages (from sympy==1.13.1->torch>=1.9->monai) (1.3.0)\n",
      "Requirement already satisfied: MarkupSafe>=2.0 in c:\\users\\viththagan\\appdata\\local\\programs\\python\\python312\\lib\\site-packages (from jinja2->torch>=1.9->monai) (3.0.2)\n"
     ]
    },
    {
     "name": "stderr",
     "output_type": "stream",
     "text": [
      "\n",
      "[notice] A new release of pip is available: 25.0 -> 25.1.1\n",
      "[notice] To update, run: python.exe -m pip install --upgrade pip\n"
     ]
    }
   ],
   "source": [
    "pip install monai"
   ]
  },
  {
   "cell_type": "code",
   "execution_count": null,
   "id": "ba47b754",
   "metadata": {},
   "outputs": [],
   "source": [
    "%run main.py"
   ]
  }
 ],
 "metadata": {
  "kernelspec": {
   "display_name": "Python 3",
   "language": "python",
   "name": "python3"
  },
  "language_info": {
   "codemirror_mode": {
    "name": "ipython",
    "version": 3
   },
   "file_extension": ".py",
   "mimetype": "text/x-python",
   "name": "python",
   "nbconvert_exporter": "python",
   "pygments_lexer": "ipython3",
   "version": "3.12.8"
  }
 },
 "nbformat": 4,
 "nbformat_minor": 5
}
